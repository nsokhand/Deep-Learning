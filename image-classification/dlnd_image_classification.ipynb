{
 "cells": [
  {
   "cell_type": "markdown",
   "metadata": {
    "collapsed": true
   },
   "source": [
    "# Image Classification\n",
    "In this project, you'll classify images from the [CIFAR-10 dataset](https://www.cs.toronto.edu/~kriz/cifar.html).  The dataset consists of airplanes, dogs, cats, and other objects. You'll preprocess the images, then train a convolutional neural network on all the samples. The images need to be normalized and the labels need to be one-hot encoded.  You'll get to apply what you learned and build a convolutional, max pooling, dropout, and fully connected layers.  At the end, you'll get to see your neural network's predictions on the sample images.\n",
    "## Get the Data\n",
    "Run the following cell to download the [CIFAR-10 dataset for python](https://www.cs.toronto.edu/~kriz/cifar-10-python.tar.gz)."
   ]
  },
  {
   "cell_type": "code",
   "execution_count": 3,
   "metadata": {},
   "outputs": [
    {
     "name": "stderr",
     "output_type": "stream",
     "text": [
      "Using TensorFlow backend.\n"
     ]
    }
   ],
   "source": [
    "import tensorflow as tf\n",
    "import theano\n",
    "import keras"
   ]
  },
  {
   "cell_type": "code",
   "execution_count": 1,
   "metadata": {},
   "outputs": [
    {
     "name": "stdout",
     "output_type": "stream",
     "text": [
      "All files found!\n"
     ]
    }
   ],
   "source": [
    "\"\"\"\n",
    "DON'T MODIFY ANYTHING IN THIS CELL THAT IS BELOW THIS LINE\n",
    "\"\"\"\n",
    "from urllib.request import urlretrieve\n",
    "from os.path import isfile, isdir\n",
    "from tqdm import tqdm\n",
    "import problem_unittests as tests\n",
    "import tarfile\n",
    "\n",
    "cifar10_dataset_folder_path = 'cifar-10-batches-py'\n",
    "\n",
    "class DLProgress(tqdm):\n",
    "    last_block = 0\n",
    "\n",
    "    def hook(self, block_num=1, block_size=1, total_size=None):\n",
    "        self.total = total_size\n",
    "        self.update((block_num - self.last_block) * block_size)\n",
    "        self.last_block = block_num\n",
    "\n",
    "if not isfile('cifar-10-python.tar.gz'):\n",
    "    with DLProgress(unit='B', unit_scale=True, miniters=1, desc='CIFAR-10 Dataset') as pbar:\n",
    "        urlretrieve(\n",
    "            'https://www.cs.toronto.edu/~kriz/cifar-10-python.tar.gz',\n",
    "            'cifar-10-python.tar.gz',\n",
    "            pbar.hook)\n",
    "\n",
    "if not isdir(cifar10_dataset_folder_path):\n",
    "    with tarfile.open('cifar-10-python.tar.gz') as tar:\n",
    "        tar.extractall()\n",
    "        tar.close()\n",
    "\n",
    "\n",
    "tests.test_folder_path(cifar10_dataset_folder_path)"
   ]
  },
  {
   "cell_type": "markdown",
   "metadata": {},
   "source": [
    "## Explore the Data\n",
    "The dataset is broken into batches to prevent your machine from running out of memory.  The CIFAR-10 dataset consists of 5 batches, named `data_batch_1`, `data_batch_2`, etc.. Each batch contains the labels and images that are one of the following:\n",
    "* airplane\n",
    "* automobile\n",
    "* bird\n",
    "* cat\n",
    "* deer\n",
    "* dog\n",
    "* frog\n",
    "* horse\n",
    "* ship\n",
    "* truck\n",
    "\n",
    "Understanding a dataset is part of making predictions on the data.  Play around with the code cell below by changing the `batch_id` and `sample_id`. The `batch_id` is the id for a batch (1-5). The `sample_id` is the id for a image and label pair in the batch.\n",
    "\n",
    "Ask yourself \"What are all possible labels?\", \"What is the range of values for the image data?\", \"Are the labels in order or random?\".  Answers to questions like these will help you preprocess the data and end up with better predictions."
   ]
  },
  {
   "cell_type": "code",
   "execution_count": 2,
   "metadata": {},
   "outputs": [
    {
     "name": "stdout",
     "output_type": "stream",
     "text": [
      "\n",
      "Stats of batch 1:\n",
      "Samples: 10000\n",
      "Label Counts: {0: 1005, 1: 974, 2: 1032, 3: 1016, 4: 999, 5: 937, 6: 1030, 7: 1001, 8: 1025, 9: 981}\n",
      "First 20 Labels: [6, 9, 9, 4, 1, 1, 2, 7, 8, 3, 4, 7, 7, 2, 9, 9, 9, 3, 2, 6]\n",
      "\n",
      "Example of Image 5:\n",
      "Image - Min Value: 0 Max Value: 252\n",
      "Image - Shape: (32, 32, 3)\n",
      "Label - Label Id: 1 Name: automobile\n"
     ]
    },
    {
     "data": {
      "image/png": "[encoded data removed]",
      "text/plain": [
       "<matplotlib.figure.Figure at 0x7f1e64ac7ef0>"
      ]
     },
     "metadata": {
      "image/png": {
       "height": 250,
       "width": 253
      }
     },
     "output_type": "display_data"
    }
   ],
   "source": [
    "%matplotlib inline\n",
    "%config InlineBackend.figure_format = 'retina'\n",
    "\n",
    "import helper\n",
    "import numpy as np\n",
    "\n",
    "# Explore the dataset\n",
    "global Weights\n",
    "global names\n",
    "batch_id = 1\n",
    "sample_id = 5\n",
    "helper.display_stats(cifar10_dataset_folder_path, batch_id, sample_id)"
   ]
  },
  {
   "cell_type": "code",
   "execution_count": 3,
   "metadata": {},
   "outputs": [
    {
     "name": "stdout",
     "output_type": "stream",
     "text": [
      "\n",
      "Stats of batch 2:\n",
      "Samples: 10000\n",
      "Label Counts: {0: 984, 1: 1007, 2: 1010, 3: 995, 4: 1010, 5: 988, 6: 1008, 7: 1026, 8: 987, 9: 985}\n",
      "First 20 Labels: [1, 6, 6, 8, 8, 3, 4, 6, 0, 6, 0, 3, 6, 6, 5, 4, 8, 3, 2, 6]\n",
      "\n",
      "Example of Image 8:\n",
      "Image - Min Value: 31 Max Value: 255\n",
      "Image - Shape: (32, 32, 3)\n",
      "Label - Label Id: 0 Name: airplane\n"
     ]
    },
    {
     "data": {
      "image/png": "[encoded data removed]",
      "text/plain": [
       "<matplotlib.figure.Figure at 0x7f1eb8619e10>"
      ]
     },
     "metadata": {
      "image/png": {
       "height": 250,
       "width": 253
      }
     },
     "output_type": "display_data"
    }
   ],
   "source": [
    "batch_id = 2\n",
    "sample_id = 8\n",
    "helper.display_stats(cifar10_dataset_folder_path, batch_id, sample_id)"
   ]
  },
  {
   "cell_type": "markdown",
   "metadata": {},
   "source": [
    "## Implement Preprocess Functions\n",
    "### Normalize\n",
    "In the cell below, implement the `normalize` function to take in image data, `x`, and return it as a normalized Numpy array. The values should be in the range of 0 to 1, inclusive.  The return object should be the same shape as `x`."
   ]
  },
  {
   "cell_type": "code",
   "execution_count": 4,
   "metadata": {},
   "outputs": [
    {
     "name": "stdout",
     "output_type": "stream",
     "text": [
      "Tests Passed\n"
     ]
    }
   ],
   "source": [
    "def normalize(x):\n",
    "    \"\"\"\n",
    "    Normalize a list of sample image data in the range of 0 to 1\n",
    "    : x: List of image data.  The image shape is (32, 32, 3)\n",
    "    : return: Numpy array of normalize data\n",
    "    \"\"\"\n",
    "    return x/255\n",
    "\n",
    "\n",
    "\"\"\"\n",
    "DON'T MODIFY ANYTHING IN THIS CELL THAT IS BELOW THIS LINE\n",
    "\"\"\"\n",
    "tests.test_normalize(normalize)"
   ]
  },
  {
   "cell_type": "markdown",
   "metadata": {},
   "source": [
    "### One-hot encode\n",
    "Just like the previous code cell, you'll be implementing a function for preprocessing.  This time, you'll implement the `one_hot_encode` function. The input, `x`, are a list of labels.  Implement the function to return the list of labels as One-Hot encoded Numpy array.  The possible values for labels are 0 to 9. The one-hot encoding function should return the same encoding for each value between each call to `one_hot_encode`.  Make sure to save the map of encodings outside the function.\n",
    "\n",
    "Hint: Don't reinvent the wheel."
   ]
  },
  {
   "cell_type": "code",
   "execution_count": 5,
   "metadata": {},
   "outputs": [
    {
     "name": "stdout",
     "output_type": "stream",
     "text": [
      "Tests Passed\n"
     ]
    }
   ],
   "source": [
    "def one_hot_encode(x):\n",
    "    \"\"\"\n",
    "    One hot encode a list of sample labels. Return a one-hot encoded vector for each label.\n",
    "    : x: List of sample Labels\n",
    "    : return: Numpy array of one-hot encoded labels\n",
    "    \"\"\"\n",
    "    y = np.zeros((len(x), 10))\n",
    "    for k, label in enumerate(x):\n",
    "        y[k, label] = 1\n",
    "    return y\n",
    "\n",
    "\n",
    "\"\"\"\n",
    "DON'T MODIFY ANYTHING IN THIS CELL THAT IS BELOW THIS LINE\n",
    "\"\"\"\n",
    "tests.test_one_hot_encode(one_hot_encode)"
   ]
  },
  {
   "cell_type": "markdown",
   "metadata": {},
   "source": [
    "### Randomize Data\n",
    "As you saw from exploring the data above, the order of the samples are randomized.  It doesn't hurt to randomize it again, but you don't need to for this dataset."
   ]
  },
  {
   "cell_type": "markdown",
   "metadata": {},
   "source": [
    "## Preprocess all the data and save it\n",
    "Running the code cell below will preprocess all the CIFAR-10 data and save it to file. The code below also uses 10% of the training data for validation."
   ]
  },
  {
   "cell_type": "code",
   "execution_count": 6,
   "metadata": {},
   "outputs": [],
   "source": [
    "\"\"\"\n",
    "DON'T MODIFY ANYTHING IN THIS CELL\n",
    "\"\"\"\n",
    "# Preprocess Training, Validation, and Testing Data\n",
    "helper.preprocess_and_save_data(cifar10_dataset_folder_path, normalize, one_hot_encode)"
   ]
  },
  {
   "cell_type": "markdown",
   "metadata": {},
   "source": [
    "# Check Point\n",
    "This is your first checkpoint.  If you ever decide to come back to this notebook or have to restart the notebook, you can start from here.  The preprocessed data has been saved to disk."
   ]
  },
  {
   "cell_type": "code",
   "execution_count": 7,
   "metadata": {
    "collapsed": true
   },
   "outputs": [],
   "source": [
    "\"\"\"\n",
    "DON'T MODIFY ANYTHING IN THIS CELL\n",
    "\"\"\"\n",
    "import pickle\n",
    "import problem_unittests as tests\n",
    "import helper\n",
    "\n",
    "# Load the Preprocessed Validation data\n",
    "valid_features, valid_labels = pickle.load(open('preprocess_validation.p', mode='rb'))"
   ]
  },
  {
   "cell_type": "markdown",
   "metadata": {},
   "source": [
    "## Build the network\n",
    "For the neural network, you'll build each layer into a function.  Most of the code you've seen has been outside of functions. To test your code more thoroughly, we require that you put each layer in a function.  This allows us to give you better feedback and test for simple mistakes using our unittests before you submit your project.\n",
    "\n",
    ">**Note:** If you're finding it hard to dedicate enough time for this course each week, we've provided a small shortcut to this part of the project. In the next couple of problems, you'll have the option to use classes from the [TensorFlow Layers](https://www.tensorflow.org/api_docs/python/tf/layers) or [TensorFlow Layers (contrib)](https://www.tensorflow.org/api_guides/python/contrib.layers) packages to build each layer, except the layers you build in the \"Convolutional and Max Pooling Layer\" section.  TF Layers is similar to Keras's and TFLearn's abstraction to layers, so it's easy to pickup.\n",
    "\n",
    ">However, if you would like to get the most out of this course, try to solve all the problems _without_ using anything from the TF Layers packages. You **can** still use classes from other packages that happen to have the same name as ones you find in TF Layers! For example, instead of using the TF Layers version of the `conv2d` class, [tf.layers.conv2d](https://www.tensorflow.org/api_docs/python/tf/layers/conv2d), you would want to use the TF Neural Network version of `conv2d`, [tf.nn.conv2d](https://www.tensorflow.org/api_docs/python/tf/nn/conv2d). \n",
    "\n",
    "Let's begin!\n",
    "\n",
    "### Input\n",
    "The neural network needs to read the image data, one-hot encoded labels, and dropout keep probability. Implement the following functions\n",
    "* Implement `neural_net_image_input`\n",
    " * Return a [TF Placeholder](https://www.tensorflow.org/api_docs/python/tf/placeholder)\n",
    " * Set the shape using `image_shape` with batch size set to `None`.\n",
    " * Name the TensorFlow placeholder \"x\" using the TensorFlow `name` parameter in the [TF Placeholder](https://www.tensorflow.org/api_docs/python/tf/placeholder).\n",
    "* Implement `neural_net_label_input`\n",
    " * Return a [TF Placeholder](https://www.tensorflow.org/api_docs/python/tf/placeholder)\n",
    " * Set the shape using `n_classes` with batch size set to `None`.\n",
    " * Name the TensorFlow placeholder \"y\" using the TensorFlow `name` parameter in the [TF Placeholder](https://www.tensorflow.org/api_docs/python/tf/placeholder).\n",
    "* Implement `neural_net_keep_prob_input`\n",
    " * Return a [TF Placeholder](https://www.tensorflow.org/api_docs/python/tf/placeholder) for dropout keep probability.\n",
    " * Name the TensorFlow placeholder \"keep_prob\" using the TensorFlow `name` parameter in the [TF Placeholder](https://www.tensorflow.org/api_docs/python/tf/placeholder).\n",
    "\n",
    "These names will be used at the end of the project to load your saved model.\n",
    "\n",
    "Note: `None` for shapes in TensorFlow allow for a dynamic size."
   ]
  },
  {
   "cell_type": "code",
   "execution_count": 8,
   "metadata": {},
   "outputs": [
    {
     "name": "stdout",
     "output_type": "stream",
     "text": [
      "Image Input Tests Passed.\n",
      "Label Input Tests Passed.\n",
      "Keep Prob Tests Passed.\n"
     ]
    }
   ],
   "source": [
    "import tensorflow as tf\n",
    "\n",
    "def neural_net_image_input(image_shape):\n",
    "    \"\"\"\n",
    "    Return a Tensor for a batch of image input\n",
    "    : image_shape: Shape of the images\n",
    "    : return: Tensor for image input.\n",
    "    \"\"\"\n",
    "    return tf.placeholder(tf.float32, shape=[None, *image_shape], name='x')\n",
    "\n",
    "\n",
    "def neural_net_label_input(n_classes):\n",
    "    \"\"\"\n",
    "    Return a Tensor for a batch of label input\n",
    "    : n_classes: Number of classes\n",
    "    : return: Tensor for label input.\n",
    "    \"\"\"\n",
    "    return tf.placeholder(tf.float32, shape=[None, n_classes], name='y')\n",
    "\n",
    "\n",
    "def neural_net_keep_prob_input():\n",
    "    \"\"\"\n",
    "    Return a Tensor for keep probability\n",
    "    : return: Tensor for keep probability.\n",
    "    \"\"\"\n",
    "    return tf.placeholder(tf.float32, name='keep_prob')\n",
    "\n",
    "\n",
    "\"\"\"\n",
    "DON'T MODIFY ANYTHING IN THIS CELL THAT IS BELOW THIS LINE\n",
    "\"\"\"\n",
    "tf.reset_default_graph()\n",
    "tests.test_nn_image_inputs(neural_net_image_input)\n",
    "tests.test_nn_label_inputs(neural_net_label_input)\n",
    "tests.test_nn_keep_prob_inputs(neural_net_keep_prob_input)"
   ]
  },
  {
   "cell_type": "markdown",
   "metadata": {},
   "source": [
    "### Convolution and Max Pooling Layer\n",
    "Convolution layers have a lot of success with images. For this code cell, you should implement the function `conv2d_maxpool` to apply convolution then max pooling:\n",
    "* Create the weight and bias using `conv_ksize`, `conv_num_outputs` and the shape of `x_tensor`.\n",
    "* Apply a convolution to `x_tensor` using weight and `conv_strides`.\n",
    " * We recommend you use same padding, but you're welcome to use any padding.\n",
    "* Add bias\n",
    "* Add a nonlinear activation to the convolution.\n",
    "* Apply Max Pooling using `pool_ksize` and `pool_strides`.\n",
    " * We recommend you use same padding, but you're welcome to use any padding.\n",
    "\n",
    "**Note:** You **can't** use [TensorFlow Layers](https://www.tensorflow.org/api_docs/python/tf/layers) or [TensorFlow Layers (contrib)](https://www.tensorflow.org/api_guides/python/contrib.layers) for **this** layer, but you can still use TensorFlow's [Neural Network](https://www.tensorflow.org/api_docs/python/tf/nn) package. You may still use the shortcut option for all the **other** layers."
   ]
  },
  {
   "cell_type": "code",
   "execution_count": 9,
   "metadata": {},
   "outputs": [
    {
     "name": "stdout",
     "output_type": "stream",
     "text": [
      "Tests Passed\n"
     ]
    }
   ],
   "source": [
    "def conv2d_maxpool(x_tensor, conv_num_outputs, conv_ksize, conv_strides, pool_ksize, pool_strides):\n",
    "    \"\"\"\n",
    "    Apply convolution then max pooling to x_tensor\n",
    "    :param x_tensor: TensorFlow Tensor\n",
    "    :param conv_num_outputs: Number of outputs for the convolutional layer\n",
    "    :param conv_ksize: kernal size 2-D Tuple for the convolutional layer\n",
    "    :param conv_strides: Stride 2-D Tuple for convolution\n",
    "    :param pool_ksize: kernal size 2-D Tuple for pool\n",
    "    :param pool_strides: Stride 2-D Tuple for pool\n",
    "    : return: A tensor that represents convolution and max pooling of x_tensor\n",
    "    \"\"\"\n",
    "    shape = x_tensor.get_shape().as_list()\n",
    "    weights = tf.Variable(tf.truncated_normal((*conv_ksize, shape[3], conv_num_outputs), stddev=0.05))\n",
    "    biases = tf.Variable(tf.constant(0.05, shape=[conv_num_outputs]))\n",
    "    conv2 = tf.nn.conv2d(x_tensor, weights, strides=[1, *conv_strides, 1], padding='SAME')\n",
    "    conv2 = tf.nn.bias_add(conv2, biases)\n",
    "    conv2 = tf.nn.relu(conv2)\n",
    "    conv2 = tf.nn.max_pool(conv2, ksize=[1, *pool_ksize, 1], strides=[1, *pool_strides, 1], padding='SAME')\n",
    "    return conv2 \n",
    "\n",
    "\n",
    "\"\"\"\n",
    "DON'T MODIFY ANYTHING IN THIS CELL THAT IS BELOW THIS LINE\n",
    "\"\"\"\n",
    "tests.test_con_pool(conv2d_maxpool)\n"
   ]
  },
  {
   "cell_type": "markdown",
   "metadata": {},
   "source": [
    "### Flatten Layer\n",
    "Implement the `flatten` function to change the dimension of `x_tensor` from a 4-D tensor to a 2-D tensor.  The output should be the shape (*Batch Size*, *Flattened Image Size*). Shortcut option: you can use classes from the [TensorFlow Layers](https://www.tensorflow.org/api_docs/python/tf/layers) or [TensorFlow Layers (contrib)](https://www.tensorflow.org/api_guides/python/contrib.layers) packages for this layer. For more of a challenge, only use other TensorFlow packages."
   ]
  },
  {
   "cell_type": "code",
   "execution_count": 10,
   "metadata": {},
   "outputs": [
    {
     "name": "stdout",
     "output_type": "stream",
     "text": [
      "Tests Passed\n"
     ]
    }
   ],
   "source": [
    "def flatten(x_tensor):\n",
    "    \"\"\"\n",
    "    Flatten x_tensor to (Batch Size, Flattened Image Size)\n",
    "    : x_tensor: A tensor of size (Batch Size, ...), where ... are the image dimensions.\n",
    "    : return: A tensor of size (Batch Size, Flattened Image Size).\n",
    "    \"\"\"\n",
    "    shape = x_tensor.get_shape().as_list()\n",
    "    x = tf.reshape(x_tensor, [-1, np.prod(shape[1:])])\n",
    "    return x\n",
    "\n",
    "\n",
    "\"\"\"\n",
    "DON'T MODIFY ANYTHING IN THIS CELL THAT IS BELOW THIS LINE\n",
    "\"\"\"\n",
    "tests.test_flatten(flatten)"
   ]
  },
  {
   "cell_type": "markdown",
   "metadata": {},
   "source": [
    "### Fully-Connected Layer\n",
    "Implement the `fully_conn` function to apply a fully connected layer to `x_tensor` with the shape (*Batch Size*, *num_outputs*). Shortcut option: you can use classes from the [TensorFlow Layers](https://www.tensorflow.org/api_docs/python/tf/layers) or [TensorFlow Layers (contrib)](https://www.tensorflow.org/api_guides/python/contrib.layers) packages for this layer. For more of a challenge, only use other TensorFlow packages."
   ]
  },
  {
   "cell_type": "code",
   "execution_count": 11,
   "metadata": {},
   "outputs": [
    {
     "name": "stdout",
     "output_type": "stream",
     "text": [
      "Tests Passed\n"
     ]
    }
   ],
   "source": [
    "def fully_conn(x_tensor, num_outputs):\n",
    "    \"\"\"\n",
    "    Apply a fully connected layer to x_tensor using weight and bias\n",
    "    : x_tensor: A 2-D tensor where the first dimension is batch size.\n",
    "    : num_outputs: The number of output that the new tensor should be.\n",
    "    : return: A 2-D tensor where the second dimension is num_outputs.\n",
    "    \"\"\"\n",
    "    shape = x_tensor.get_shape().as_list()\n",
    "    weights = tf.Variable(tf.truncated_normal((shape[1], num_outputs), stddev=0.05))\n",
    "    biases = tf.Variable(tf.constant(0.05, shape=[num_outputs]))\n",
    "    fc = tf.add(tf.matmul(x_tensor, weights), biases)\n",
    "    fc = tf.nn.relu(fc)\n",
    "    return fc\n",
    "\n",
    "\n",
    "\"\"\"\n",
    "DON'T MODIFY ANYTHING IN THIS CELL THAT IS BELOW THIS LINE\n",
    "\"\"\"\n",
    "tests.test_fully_conn(fully_conn)"
   ]
  },
  {
   "cell_type": "markdown",
   "metadata": {},
   "source": [
    "### Output Layer\n",
    "Implement the `output` function to apply a fully connected layer to `x_tensor` with the shape (*Batch Size*, *num_outputs*). Shortcut option: you can use classes from the [TensorFlow Layers](https://www.tensorflow.org/api_docs/python/tf/layers) or [TensorFlow Layers (contrib)](https://www.tensorflow.org/api_guides/python/contrib.layers) packages for this layer. For more of a challenge, only use other TensorFlow packages.\n",
    "\n",
    "**Note:** Activation, softmax, or cross entropy should **not** be applied to this."
   ]
  },
  {
   "cell_type": "code",
   "execution_count": 12,
   "metadata": {},
   "outputs": [
    {
     "name": "stdout",
     "output_type": "stream",
     "text": [
      "Tests Passed\n"
     ]
    }
   ],
   "source": [
    "def output(x_tensor, num_outputs):\n",
    "    \"\"\"\n",
    "    Apply a output layer to x_tensor using weight and bias\n",
    "    : x_tensor: A 2-D tensor where the first dimension is batch size.\n",
    "    : num_outputs: The number of output that the new tensor should be.\n",
    "    : return: A 2-D tensor where the second dimension is num_outputs.\n",
    "    \"\"\"\n",
    "    shape = x_tensor.get_shape().as_list()\n",
    "    weights = tf.Variable(tf.truncated_normal((shape[1], num_outputs), stddev=0.05))\n",
    "    biases = tf.Variable(tf.constant(0.05, shape=[num_outputs]))\n",
    "    out = tf.add(tf.matmul(x_tensor, weights), biases)\n",
    "    return out\n",
    "\n",
    "\n",
    "\"\"\"\n",
    "DON'T MODIFY ANYTHING IN THIS CELL THAT IS BELOW THIS LINE\n",
    "\"\"\"\n",
    "tests.test_output(output)"
   ]
  },
  {
   "cell_type": "markdown",
   "metadata": {},
   "source": [
    "### Create Convolutional Model\n",
    "Implement the function `conv_net` to create a convolutional neural network model. The function takes in a batch of images, `x`, and outputs logits.  Use the layers you created above to create this model:\n",
    "\n",
    "* Apply 1, 2, or 3 Convolution and Max Pool layers\n",
    "* Apply a Flatten Layer\n",
    "* Apply 1, 2, or 3 Fully Connected Layers\n",
    "* Apply an Output Layer\n",
    "* Return the output\n",
    "* Apply [TensorFlow's Dropout](https://www.tensorflow.org/api_docs/python/tf/nn/dropout) to one or more layers in the model using `keep_prob`. "
   ]
  },
  {
   "cell_type": "code",
   "execution_count": 13,
   "metadata": {},
   "outputs": [
    {
     "name": "stdout",
     "output_type": "stream",
     "text": [
      "Neural Network Built!\n"
     ]
    }
   ],
   "source": [
    "def conv_net(x, keep_prob):\n",
    "    \"\"\"\n",
    "    Create a convolutional neural network model\n",
    "    : x: Placeholder tensor that holds image data.\n",
    "    : keep_prob: Placeholder tensor that hold dropout keep probability.\n",
    "    : return: Tensor that represents logits\n",
    "    \"\"\"\n",
    "    # TODO: Apply 1, 2, or 3 Convolution and Max Pool layers\n",
    "    #    Play around with different number of outputs, kernel size and stride\n",
    "    conv1 = conv2d_maxpool(x, 32, (5, 5), (1,1), (2,2), (2,2))\n",
    "    conv2 = conv2d_maxpool(conv1, 48, (3, 3), (1,1), (2,2), (2,2))\n",
    "    conv3 = conv2d_maxpool(conv2, 64, (3, 3), (1,1), (2,2), (2,2))\n",
    "    conv3 = tf.nn.dropout(conv3, keep_prob)\n",
    "    \n",
    "\n",
    "    # TODO: Apply a Flatten Layer\n",
    "    x_flat = flatten(conv3)\n",
    "    \n",
    "\n",
    "    # TODO: Apply 1, 2, or 3 Fully Connected Layers\n",
    "    #    Play around with different number of outputs\n",
    "    fc1 = fully_conn(x_flat, 64)\n",
    "    fc1 = tf.nn.dropout(fc1, keep_prob)\n",
    "    \n",
    "    # TODO: Apply an Output Layer\n",
    "    out = output(fc1, 10)\n",
    "\n",
    "    return out\n",
    "\n",
    "\n",
    "\"\"\"\n",
    "DON'T MODIFY ANYTHING IN THIS CELL THAT IS BELOW THIS LINE\n",
    "\"\"\"\n",
    "\n",
    "##############################\n",
    "## Build the Neural Network ##\n",
    "##############################\n",
    "\n",
    "# Remove previous weights, bias, inputs, etc..\n",
    "tf.reset_default_graph()\n",
    "\n",
    "# Inputs\n",
    "x = neural_net_image_input((32, 32, 3))\n",
    "y = neural_net_label_input(10)\n",
    "keep_prob = neural_net_keep_prob_input()\n",
    "\n",
    "# Model\n",
    "logits = conv_net(x, keep_prob)\n",
    "\n",
    "# Name logits Tensor, so that is can be loaded from disk after training\n",
    "logits = tf.identity(logits, name='logits')\n",
    "\n",
    "# Loss and Optimizer\n",
    "cost = tf.reduce_mean(tf.nn.softmax_cross_entropy_with_logits(logits=logits, labels=y))\n",
    "optimizer = tf.train.AdamOptimizer().minimize(cost)\n",
    "\n",
    "# Accuracy\n",
    "correct_pred = tf.equal(tf.argmax(logits, 1), tf.argmax(y, 1))\n",
    "accuracy = tf.reduce_mean(tf.cast(correct_pred, tf.float32), name='accuracy')\n",
    "\n",
    "tests.test_conv_net(conv_net)"
   ]
  },
  {
   "cell_type": "markdown",
   "metadata": {},
   "source": [
    "## Train the Neural Network\n",
    "### Single Optimization\n",
    "Implement the function `train_neural_network` to do a single optimization.  The optimization should use `optimizer` to optimize in `session` with a `feed_dict` of the following:\n",
    "* `x` for image input\n",
    "* `y` for labels\n",
    "* `keep_prob` for keep probability for dropout\n",
    "\n",
    "This function will be called for each batch, so `tf.global_variables_initializer()` has already been called.\n",
    "\n",
    "Note: Nothing needs to be returned. This function is only optimizing the neural network."
   ]
  },
  {
   "cell_type": "code",
   "execution_count": 14,
   "metadata": {},
   "outputs": [
    {
     "name": "stdout",
     "output_type": "stream",
     "text": [
      "Tests Passed\n"
     ]
    }
   ],
   "source": [
    "def train_neural_network(session, optimizer, keep_probability, feature_batch, label_batch):\n",
    "    \"\"\"\n",
    "    Optimize the session on a batch of images and labels\n",
    "    : session: Current TensorFlow session\n",
    "    : optimizer: TensorFlow optimizer function\n",
    "    : keep_probability: keep probability\n",
    "    : feature_batch: Batch of Numpy image data\n",
    "    : label_batch: Batch of Numpy label data\n",
    "    \"\"\"\n",
    "    feed_dict = {x: feature_batch, y: label_batch, keep_prob: keep_probability}\n",
    "    session.run(optimizer, feed_dict=feed_dict)\n",
    "\n",
    "\n",
    "\"\"\"\n",
    "DON'T MODIFY ANYTHING IN THIS CELL THAT IS BELOW THIS LINE\n",
    "\"\"\"\n",
    "tests.test_train_nn(train_neural_network)"
   ]
  },
  {
   "cell_type": "markdown",
   "metadata": {},
   "source": [
    "### Show Stats\n",
    "Implement the function `print_stats` to print loss and validation accuracy.  Use the global variables `valid_features` and `valid_labels` to calculate validation accuracy.  Use a keep probability of `1.0` to calculate the loss and validation accuracy."
   ]
  },
  {
   "cell_type": "code",
   "execution_count": 15,
   "metadata": {},
   "outputs": [],
   "source": [
    "def print_stats(session, feature_batch, label_batch, cost, accuracy):\n",
    "    \"\"\"\n",
    "    Print information about loss and validation accuracy\n",
    "    : session: Current TensorFlow session\n",
    "    : feature_batch: Batch of Numpy image data\n",
    "    : label_batch: Batch of Numpy label data\n",
    "    : cost: TensorFlow cost function\n",
    "    : accuracy: TensorFlow accuracy function\n",
    "    \"\"\"\n",
    "    feed_dict = {x: feature_batch, y: label_batch, keep_prob: 1.0}\n",
    "    cost_val = session.run(cost, feed_dict=feed_dict)\n",
    "    feed_dict = {x: valid_features, y: valid_labels, keep_prob: 1.0}\n",
    "    acc_val = session.run(accuracy, feed_dict=feed_dict)\n",
    "    print('loss: ', cost_val, '  accuracy: ', acc_val)"
   ]
  },
  {
   "cell_type": "markdown",
   "metadata": {},
   "source": [
    "### Hyperparameters\n",
    "Tune the following parameters:\n",
    "* Set `epochs` to the number of iterations until the network stops learning or start overfitting\n",
    "* Set `batch_size` to the highest number that your machine has memory for.  Most people set them to common sizes of memory:\n",
    " * 64\n",
    " * 128\n",
    " * 256\n",
    " * ...\n",
    "* Set `keep_probability` to the probability of keeping a node using dropout"
   ]
  },
  {
   "cell_type": "code",
   "execution_count": 16,
   "metadata": {
    "collapsed": true
   },
   "outputs": [],
   "source": [
    "# TODO: Tune Parameters\n",
    "epochs = 60\n",
    "batch_size = 256\n",
    "keep_probability = 0.75"
   ]
  },
  {
   "cell_type": "markdown",
   "metadata": {},
   "source": [
    "### Train on a Single CIFAR-10 Batch\n",
    "Instead of training the neural network on all the CIFAR-10 batches of data, let's use a single batch. This should save time while you iterate on the model to get a better accuracy.  Once the final validation accuracy is 50% or greater, run the model on all the data in the next section."
   ]
  },
  {
   "cell_type": "code",
   "execution_count": 17,
   "metadata": {},
   "outputs": [
    {
     "name": "stdout",
     "output_type": "stream",
     "text": [
      "Checking the Training on a Single Batch...\n",
      "Epoch  1, CIFAR-10 Batch 1:  loss:  2.16153   accuracy:  0.2202\n",
      "Epoch  2, CIFAR-10 Batch 1:  loss:  1.97855   accuracy:  0.3552\n",
      "Epoch  3, CIFAR-10 Batch 1:  loss:  1.84318   accuracy:  0.3966\n",
      "Epoch  4, CIFAR-10 Batch 1:  loss:  1.78905   accuracy:  0.4032\n",
      "Epoch  5, CIFAR-10 Batch 1:  loss:  1.65354   accuracy:  0.438\n",
      "Epoch  6, CIFAR-10 Batch 1:  loss:  1.59357   accuracy:  0.4532\n",
      "Epoch  7, CIFAR-10 Batch 1:  loss:  1.49314   accuracy:  0.468\n",
      "Epoch  8, CIFAR-10 Batch 1:  loss:  1.40391   accuracy:  0.4708\n",
      "Epoch  9, CIFAR-10 Batch 1:  loss:  1.30709   accuracy:  0.483\n",
      "Epoch 10, CIFAR-10 Batch 1:  loss:  1.1995   accuracy:  0.4896\n",
      "Epoch 11, CIFAR-10 Batch 1:  loss:  1.134   accuracy:  0.4832\n",
      "Epoch 12, CIFAR-10 Batch 1:  loss:  1.03767   accuracy:  0.5006\n",
      "Epoch 13, CIFAR-10 Batch 1:  loss:  0.972051   accuracy:  0.5072\n",
      "Epoch 14, CIFAR-10 Batch 1:  loss:  0.940264   accuracy:  0.497\n",
      "Epoch 15, CIFAR-10 Batch 1:  loss:  0.908841   accuracy:  0.5308\n",
      "Epoch 16, CIFAR-10 Batch 1:  loss:  0.831729   accuracy:  0.539\n",
      "Epoch 17, CIFAR-10 Batch 1:  loss:  0.795924   accuracy:  0.5418\n",
      "Epoch 18, CIFAR-10 Batch 1:  loss:  0.737879   accuracy:  0.5436\n",
      "Epoch 19, CIFAR-10 Batch 1:  loss:  0.68575   accuracy:  0.551\n",
      "Epoch 20, CIFAR-10 Batch 1:  loss:  0.613212   accuracy:  0.5612\n",
      "Epoch 21, CIFAR-10 Batch 1:  loss:  0.580068   accuracy:  0.5566\n",
      "Epoch 22, CIFAR-10 Batch 1:  loss:  0.536912   accuracy:  0.5572\n",
      "Epoch 23, CIFAR-10 Batch 1:  loss:  0.505279   accuracy:  0.5548\n",
      "Epoch 24, CIFAR-10 Batch 1:  loss:  0.469727   accuracy:  0.5562\n",
      "Epoch 25, CIFAR-10 Batch 1:  loss:  0.418687   accuracy:  0.5686\n",
      "Epoch 26, CIFAR-10 Batch 1:  loss:  0.401866   accuracy:  0.57\n",
      "Epoch 27, CIFAR-10 Batch 1:  loss:  0.357582   accuracy:  0.5606\n",
      "Epoch 28, CIFAR-10 Batch 1:  loss:  0.377896   accuracy:  0.55\n",
      "Epoch 29, CIFAR-10 Batch 1:  loss:  0.331735   accuracy:  0.5832\n",
      "Epoch 30, CIFAR-10 Batch 1:  loss:  0.40809   accuracy:  0.5698\n",
      "Epoch 31, CIFAR-10 Batch 1:  loss:  0.316202   accuracy:  0.5698\n",
      "Epoch 32, CIFAR-10 Batch 1:  loss:  0.317588   accuracy:  0.5714\n",
      "Epoch 33, CIFAR-10 Batch 1:  loss:  0.267355   accuracy:  0.5834\n",
      "Epoch 34, CIFAR-10 Batch 1:  loss:  0.224435   accuracy:  0.5912\n",
      "Epoch 35, CIFAR-10 Batch 1:  loss:  0.188259   accuracy:  0.5978\n",
      "Epoch 36, CIFAR-10 Batch 1:  loss:  0.2185   accuracy:  0.5776\n",
      "Epoch 37, CIFAR-10 Batch 1:  loss:  0.218482   accuracy:  0.581\n",
      "Epoch 38, CIFAR-10 Batch 1:  loss:  0.18227   accuracy:  0.5776\n",
      "Epoch 39, CIFAR-10 Batch 1:  loss:  0.171967   accuracy:  0.5962\n",
      "Epoch 40, CIFAR-10 Batch 1:  loss:  0.166143   accuracy:  0.581\n",
      "Epoch 41, CIFAR-10 Batch 1:  loss:  0.162753   accuracy:  0.602\n",
      "Epoch 42, CIFAR-10 Batch 1:  loss:  0.177902   accuracy:  0.602\n",
      "Epoch 43, CIFAR-10 Batch 1:  loss:  0.153468   accuracy:  0.6044\n",
      "Epoch 44, CIFAR-10 Batch 1:  loss:  0.136741   accuracy:  0.6074\n",
      "Epoch 45, CIFAR-10 Batch 1:  loss:  0.131662   accuracy:  0.6126\n",
      "Epoch 46, CIFAR-10 Batch 1:  loss:  0.132813   accuracy:  0.5876\n",
      "Epoch 47, CIFAR-10 Batch 1:  loss:  0.122743   accuracy:  0.5948\n",
      "Epoch 48, CIFAR-10 Batch 1:  loss:  0.0986276   accuracy:  0.6084\n",
      "Epoch 49, CIFAR-10 Batch 1:  loss:  0.124476   accuracy:  0.597\n",
      "Epoch 50, CIFAR-10 Batch 1:  loss:  0.101506   accuracy:  0.5886\n",
      "Epoch 51, CIFAR-10 Batch 1:  loss:  0.0811516   accuracy:  0.606\n",
      "Epoch 52, CIFAR-10 Batch 1:  loss:  0.0948175   accuracy:  0.5998\n",
      "Epoch 53, CIFAR-10 Batch 1:  loss:  0.084763   accuracy:  0.6132\n",
      "Epoch 54, CIFAR-10 Batch 1:  loss:  0.0769617   accuracy:  0.6132\n",
      "Epoch 55, CIFAR-10 Batch 1:  loss:  0.070686   accuracy:  0.6086\n",
      "Epoch 56, CIFAR-10 Batch 1:  loss:  0.0728765   accuracy:  0.6136\n",
      "Epoch 57, CIFAR-10 Batch 1:  loss:  0.0681415   accuracy:  0.6156\n",
      "Epoch 58, CIFAR-10 Batch 1:  loss:  0.0547718   accuracy:  0.6232\n",
      "Epoch 59, CIFAR-10 Batch 1:  loss:  0.0498616   accuracy:  0.6196\n",
      "Epoch 60, CIFAR-10 Batch 1:  loss:  0.0568175   accuracy:  0.618\n"
     ]
    }
   ],
   "source": [
    "\"\"\"\n",
    "DON'T MODIFY ANYTHING IN THIS CELL\n",
    "\"\"\"\n",
    "print('Checking the Training on a Single Batch...')\n",
    "with tf.Session() as sess:\n",
    "    # Initializing the variables\n",
    "    sess.run(tf.global_variables_initializer())\n",
    "    \n",
    "    # Training cycle\n",
    "    for epoch in range(epochs):\n",
    "        batch_i = 1\n",
    "        for batch_features, batch_labels in helper.load_preprocess_training_batch(batch_i, batch_size):\n",
    "            train_neural_network(sess, optimizer, keep_probability, batch_features, batch_labels)\n",
    "        print('Epoch {:>2}, CIFAR-10 Batch {}:  '.format(epoch + 1, batch_i), end='')\n",
    "        print_stats(sess, batch_features, batch_labels, cost, accuracy)"
   ]
  },
  {
   "cell_type": "markdown",
   "metadata": {},
   "source": [
    "### Fully Train the Model\n",
    "Now that you got a good accuracy with a single CIFAR-10 batch, try it with all five batches."
   ]
  },
  {
   "cell_type": "code",
   "execution_count": 18,
   "metadata": {},
   "outputs": [
    {
     "name": "stdout",
     "output_type": "stream",
     "text": [
      "Training...\n",
      "Epoch  1, CIFAR-10 Batch 1:  loss:  2.15829   accuracy:  0.2408\n",
      "Epoch  1, CIFAR-10 Batch 2:  loss:  1.919   accuracy:  0.3392\n",
      "Epoch  1, CIFAR-10 Batch 3:  loss:  1.67271   accuracy:  0.3554\n",
      "Epoch  1, CIFAR-10 Batch 4:  loss:  1.67021   accuracy:  0.4104\n",
      "Epoch  1, CIFAR-10 Batch 5:  loss:  1.75012   accuracy:  0.3958\n",
      "Epoch  2, CIFAR-10 Batch 1:  loss:  1.75972   accuracy:  0.4378\n",
      "Epoch  2, CIFAR-10 Batch 2:  loss:  1.6367   accuracy:  0.4502\n",
      "Epoch  2, CIFAR-10 Batch 3:  loss:  1.31006   accuracy:  0.4394\n",
      "Epoch  2, CIFAR-10 Batch 4:  loss:  1.55838   accuracy:  0.473\n",
      "Epoch  2, CIFAR-10 Batch 5:  loss:  1.51084   accuracy:  0.4724\n",
      "Epoch  3, CIFAR-10 Batch 1:  loss:  1.59868   accuracy:  0.5058\n",
      "Epoch  3, CIFAR-10 Batch 2:  loss:  1.40367   accuracy:  0.4876\n",
      "Epoch  3, CIFAR-10 Batch 3:  loss:  1.18308   accuracy:  0.4752\n",
      "Epoch  3, CIFAR-10 Batch 4:  loss:  1.36995   accuracy:  0.5116\n",
      "Epoch  3, CIFAR-10 Batch 5:  loss:  1.38947   accuracy:  0.5104\n",
      "Epoch  4, CIFAR-10 Batch 1:  loss:  1.45436   accuracy:  0.5362\n",
      "Epoch  4, CIFAR-10 Batch 2:  loss:  1.22631   accuracy:  0.5372\n",
      "Epoch  4, CIFAR-10 Batch 3:  loss:  1.03869   accuracy:  0.5088\n",
      "Epoch  4, CIFAR-10 Batch 4:  loss:  1.20134   accuracy:  0.5416\n",
      "Epoch  4, CIFAR-10 Batch 5:  loss:  1.271   accuracy:  0.5492\n",
      "Epoch  5, CIFAR-10 Batch 1:  loss:  1.2671   accuracy:  0.5526\n",
      "Epoch  5, CIFAR-10 Batch 2:  loss:  1.09549   accuracy:  0.5476\n",
      "Epoch  5, CIFAR-10 Batch 3:  loss:  0.968038   accuracy:  0.5586\n",
      "Epoch  5, CIFAR-10 Batch 4:  loss:  1.04732   accuracy:  0.576\n",
      "Epoch  5, CIFAR-10 Batch 5:  loss:  1.15972   accuracy:  0.5706\n",
      "Epoch  6, CIFAR-10 Batch 1:  loss:  1.22416   accuracy:  0.5832\n",
      "Epoch  6, CIFAR-10 Batch 2:  loss:  0.971659   accuracy:  0.5866\n",
      "Epoch  6, CIFAR-10 Batch 3:  loss:  0.947391   accuracy:  0.5686\n",
      "Epoch  6, CIFAR-10 Batch 4:  loss:  0.944322   accuracy:  0.6028\n",
      "Epoch  6, CIFAR-10 Batch 5:  loss:  1.03907   accuracy:  0.5898\n",
      "Epoch  7, CIFAR-10 Batch 1:  loss:  1.07515   accuracy:  0.6016\n",
      "Epoch  7, CIFAR-10 Batch 2:  loss:  0.827695   accuracy:  0.6012\n",
      "Epoch  7, CIFAR-10 Batch 3:  loss:  0.877063   accuracy:  0.5984\n",
      "Epoch  7, CIFAR-10 Batch 4:  loss:  0.873557   accuracy:  0.6032\n",
      "Epoch  7, CIFAR-10 Batch 5:  loss:  0.936511   accuracy:  0.606\n",
      "Epoch  8, CIFAR-10 Batch 1:  loss:  0.99355   accuracy:  0.6166\n",
      "Epoch  8, CIFAR-10 Batch 2:  loss:  0.791497   accuracy:  0.612\n",
      "Epoch  8, CIFAR-10 Batch 3:  loss:  0.778549   accuracy:  0.6216\n",
      "Epoch  8, CIFAR-10 Batch 4:  loss:  0.744619   accuracy:  0.6262\n",
      "Epoch  8, CIFAR-10 Batch 5:  loss:  0.85384   accuracy:  0.615\n",
      "Epoch  9, CIFAR-10 Batch 1:  loss:  0.896328   accuracy:  0.6148\n",
      "Epoch  9, CIFAR-10 Batch 2:  loss:  0.733786   accuracy:  0.6334\n",
      "Epoch  9, CIFAR-10 Batch 3:  loss:  0.690854   accuracy:  0.643\n",
      "Epoch  9, CIFAR-10 Batch 4:  loss:  0.682044   accuracy:  0.6506\n",
      "Epoch  9, CIFAR-10 Batch 5:  loss:  0.786305   accuracy:  0.6392\n",
      "Epoch 10, CIFAR-10 Batch 1:  loss:  0.808946   accuracy:  0.6454\n",
      "Epoch 10, CIFAR-10 Batch 2:  loss:  0.656411   accuracy:  0.6352\n",
      "Epoch 10, CIFAR-10 Batch 3:  loss:  0.657168   accuracy:  0.6472\n",
      "Epoch 10, CIFAR-10 Batch 4:  loss:  0.649593   accuracy:  0.6416\n",
      "Epoch 10, CIFAR-10 Batch 5:  loss:  0.698718   accuracy:  0.6522\n",
      "Epoch 11, CIFAR-10 Batch 1:  loss:  0.710238   accuracy:  0.651\n",
      "Epoch 11, CIFAR-10 Batch 2:  loss:  0.603789   accuracy:  0.6592\n",
      "Epoch 11, CIFAR-10 Batch 3:  loss:  0.582665   accuracy:  0.6532\n",
      "Epoch 11, CIFAR-10 Batch 4:  loss:  0.608633   accuracy:  0.6484\n",
      "Epoch 11, CIFAR-10 Batch 5:  loss:  0.633656   accuracy:  0.6514\n",
      "Epoch 12, CIFAR-10 Batch 1:  loss:  0.673498   accuracy:  0.6716\n",
      "Epoch 12, CIFAR-10 Batch 2:  loss:  0.5449   accuracy:  0.6742\n",
      "Epoch 12, CIFAR-10 Batch 3:  loss:  0.526086   accuracy:  0.6646\n",
      "Epoch 12, CIFAR-10 Batch 4:  loss:  0.581868   accuracy:  0.656\n",
      "Epoch 12, CIFAR-10 Batch 5:  loss:  0.558833   accuracy:  0.6826\n",
      "Epoch 13, CIFAR-10 Batch 1:  loss:  0.615964   accuracy:  0.6672\n",
      "Epoch 13, CIFAR-10 Batch 2:  loss:  0.494272   accuracy:  0.6792\n",
      "Epoch 13, CIFAR-10 Batch 3:  loss:  0.503194   accuracy:  0.6698\n",
      "Epoch 13, CIFAR-10 Batch 4:  loss:  0.528323   accuracy:  0.6862\n",
      "Epoch 13, CIFAR-10 Batch 5:  loss:  0.51965   accuracy:  0.681\n",
      "Epoch 14, CIFAR-10 Batch 1:  loss:  0.542676   accuracy:  0.679\n",
      "Epoch 14, CIFAR-10 Batch 2:  loss:  0.448713   accuracy:  0.6872\n",
      "Epoch 14, CIFAR-10 Batch 3:  loss:  0.466517   accuracy:  0.6808\n",
      "Epoch 14, CIFAR-10 Batch 4:  loss:  0.509514   accuracy:  0.6772\n",
      "Epoch 14, CIFAR-10 Batch 5:  loss:  0.467903   accuracy:  0.6876\n",
      "Epoch 15, CIFAR-10 Batch 1:  loss:  0.488223   accuracy:  0.6816\n",
      "Epoch 15, CIFAR-10 Batch 2:  loss:  0.442328   accuracy:  0.6858\n",
      "Epoch 15, CIFAR-10 Batch 3:  loss:  0.402727   accuracy:  0.68\n",
      "Epoch 15, CIFAR-10 Batch 4:  loss:  0.450633   accuracy:  0.6902\n",
      "Epoch 15, CIFAR-10 Batch 5:  loss:  0.444387   accuracy:  0.683\n",
      "Epoch 16, CIFAR-10 Batch 1:  loss:  0.485601   accuracy:  0.6832\n",
      "Epoch 16, CIFAR-10 Batch 2:  loss:  0.388638   accuracy:  0.6928\n",
      "Epoch 16, CIFAR-10 Batch 3:  loss:  0.39689   accuracy:  0.681\n",
      "Epoch 16, CIFAR-10 Batch 4:  loss:  0.446169   accuracy:  0.7014\n",
      "Epoch 16, CIFAR-10 Batch 5:  loss:  0.383971   accuracy:  0.6896\n",
      "Epoch 17, CIFAR-10 Batch 1:  loss:  0.451286   accuracy:  0.6894\n",
      "Epoch 17, CIFAR-10 Batch 2:  loss:  0.368347   accuracy:  0.7068\n",
      "Epoch 17, CIFAR-10 Batch 3:  loss:  0.33819   accuracy:  0.6894\n",
      "Epoch 17, CIFAR-10 Batch 4:  loss:  0.388315   accuracy:  0.698\n",
      "Epoch 17, CIFAR-10 Batch 5:  loss:  0.358885   accuracy:  0.6962\n",
      "Epoch 18, CIFAR-10 Batch 1:  loss:  0.419897   accuracy:  0.6974\n",
      "Epoch 18, CIFAR-10 Batch 2:  loss:  0.348213   accuracy:  0.6954\n",
      "Epoch 18, CIFAR-10 Batch 3:  loss:  0.349673   accuracy:  0.6958\n",
      "Epoch 18, CIFAR-10 Batch 4:  loss:  0.364059   accuracy:  0.7024\n",
      "Epoch 18, CIFAR-10 Batch 5:  loss:  0.333279   accuracy:  0.707\n",
      "Epoch 19, CIFAR-10 Batch 1:  loss:  0.391392   accuracy:  0.7058\n",
      "Epoch 19, CIFAR-10 Batch 2:  loss:  0.355819   accuracy:  0.7036\n",
      "Epoch 19, CIFAR-10 Batch 3:  loss:  0.298711   accuracy:  0.7034\n",
      "Epoch 19, CIFAR-10 Batch 4:  loss:  0.359946   accuracy:  0.7084\n",
      "Epoch 19, CIFAR-10 Batch 5:  loss:  0.295416   accuracy:  0.7136\n",
      "Epoch 20, CIFAR-10 Batch 1:  loss:  0.393138   accuracy:  0.698\n",
      "Epoch 20, CIFAR-10 Batch 2:  loss:  0.378819   accuracy:  0.7162\n",
      "Epoch 20, CIFAR-10 Batch 3:  loss:  0.286602   accuracy:  0.6956\n",
      "Epoch 20, CIFAR-10 Batch 4:  loss:  0.318417   accuracy:  0.7048\n",
      "Epoch 20, CIFAR-10 Batch 5:  loss:  0.278566   accuracy:  0.714\n",
      "Epoch 21, CIFAR-10 Batch 1:  loss:  0.365513   accuracy:  0.6942\n",
      "Epoch 21, CIFAR-10 Batch 2:  loss:  0.315122   accuracy:  0.7188\n",
      "Epoch 21, CIFAR-10 Batch 3:  loss:  0.264256   accuracy:  0.71\n",
      "Epoch 21, CIFAR-10 Batch 4:  loss:  0.329949   accuracy:  0.712\n",
      "Epoch 21, CIFAR-10 Batch 5:  loss:  0.278139   accuracy:  0.7124\n",
      "Epoch 22, CIFAR-10 Batch 1:  loss:  0.342355   accuracy:  0.6996\n",
      "Epoch 22, CIFAR-10 Batch 2:  loss:  0.295115   accuracy:  0.7178\n",
      "Epoch 22, CIFAR-10 Batch 3:  loss:  0.237169   accuracy:  0.704\n",
      "Epoch 22, CIFAR-10 Batch 4:  loss:  0.285986   accuracy:  0.7098\n",
      "Epoch 22, CIFAR-10 Batch 5:  loss:  0.23287   accuracy:  0.7104\n",
      "Epoch 23, CIFAR-10 Batch 1:  loss:  0.322119   accuracy:  0.7058\n",
      "Epoch 23, CIFAR-10 Batch 2:  loss:  0.272127   accuracy:  0.7196\n",
      "Epoch 23, CIFAR-10 Batch 3:  loss:  0.21159   accuracy:  0.7114\n",
      "Epoch 23, CIFAR-10 Batch 4:  loss:  0.291281   accuracy:  0.707\n",
      "Epoch 23, CIFAR-10 Batch 5:  loss:  0.20076   accuracy:  0.7124\n",
      "Epoch 24, CIFAR-10 Batch 1:  loss:  0.320545   accuracy:  0.7092\n",
      "Epoch 24, CIFAR-10 Batch 2:  loss:  0.250079   accuracy:  0.711\n",
      "Epoch 24, CIFAR-10 Batch 3:  loss:  0.209056   accuracy:  0.7088\n",
      "Epoch 24, CIFAR-10 Batch 4:  loss:  0.253228   accuracy:  0.7164\n",
      "Epoch 24, CIFAR-10 Batch 5:  loss:  0.201757   accuracy:  0.7172\n",
      "Epoch 25, CIFAR-10 Batch 1:  loss:  0.327951   accuracy:  0.7148\n",
      "Epoch 25, CIFAR-10 Batch 2:  loss:  0.248615   accuracy:  0.7176\n",
      "Epoch 25, CIFAR-10 Batch 3:  loss:  0.187028   accuracy:  0.7194\n",
      "Epoch 25, CIFAR-10 Batch 4:  loss:  0.23976   accuracy:  0.7244\n",
      "Epoch 25, CIFAR-10 Batch 5:  loss:  0.216194   accuracy:  0.715\n",
      "Epoch 26, CIFAR-10 Batch 1:  loss:  0.286978   accuracy:  0.7098\n",
      "Epoch 26, CIFAR-10 Batch 2:  loss:  0.293493   accuracy:  0.7198\n",
      "Epoch 26, CIFAR-10 Batch 3:  loss:  0.209678   accuracy:  0.719\n",
      "Epoch 26, CIFAR-10 Batch 4:  loss:  0.207617   accuracy:  0.7204\n",
      "Epoch 26, CIFAR-10 Batch 5:  loss:  0.18619   accuracy:  0.721\n",
      "Epoch 27, CIFAR-10 Batch 1:  loss:  0.255287   accuracy:  0.7278\n",
      "Epoch 27, CIFAR-10 Batch 2:  loss:  0.2484   accuracy:  0.727\n",
      "Epoch 27, CIFAR-10 Batch 3:  loss:  0.165499   accuracy:  0.7156\n",
      "Epoch 27, CIFAR-10 Batch 4:  loss:  0.199187   accuracy:  0.7232\n",
      "Epoch 27, CIFAR-10 Batch 5:  loss:  0.183322   accuracy:  0.724\n",
      "Epoch 28, CIFAR-10 Batch 1:  loss:  0.239736   accuracy:  0.724\n",
      "Epoch 28, CIFAR-10 Batch 2:  loss:  0.234323   accuracy:  0.7112\n",
      "Epoch 28, CIFAR-10 Batch 3:  loss:  0.174019   accuracy:  0.7126\n",
      "Epoch 28, CIFAR-10 Batch 4:  loss:  0.20953   accuracy:  0.7254\n",
      "Epoch 28, CIFAR-10 Batch 5:  loss:  0.153479   accuracy:  0.7366\n",
      "Epoch 29, CIFAR-10 Batch 1:  loss:  0.220592   accuracy:  0.7224\n",
      "Epoch 29, CIFAR-10 Batch 2:  loss:  0.207534   accuracy:  0.731\n",
      "Epoch 29, CIFAR-10 Batch 3:  loss:  0.181088   accuracy:  0.7176\n",
      "Epoch 29, CIFAR-10 Batch 4:  loss:  0.212537   accuracy:  0.7268\n",
      "Epoch 29, CIFAR-10 Batch 5:  loss:  0.152218   accuracy:  0.717\n",
      "Epoch 30, CIFAR-10 Batch 1:  loss:  0.208334   accuracy:  0.7306\n",
      "Epoch 30, CIFAR-10 Batch 2:  loss:  0.202645   accuracy:  0.7346\n",
      "Epoch 30, CIFAR-10 Batch 3:  loss:  0.144078   accuracy:  0.72\n",
      "Epoch 30, CIFAR-10 Batch 4:  loss:  0.178861   accuracy:  0.7248\n",
      "Epoch 30, CIFAR-10 Batch 5:  loss:  0.148061   accuracy:  0.7298\n",
      "Epoch 31, CIFAR-10 Batch 1:  loss:  0.234936   accuracy:  0.7242\n",
      "Epoch 31, CIFAR-10 Batch 2:  loss:  0.19491   accuracy:  0.732\n",
      "Epoch 31, CIFAR-10 Batch 3:  loss:  0.13209   accuracy:  0.7252\n",
      "Epoch 31, CIFAR-10 Batch 4:  loss:  0.177606   accuracy:  0.7296\n",
      "Epoch 31, CIFAR-10 Batch 5:  loss:  0.142398   accuracy:  0.726\n",
      "Epoch 32, CIFAR-10 Batch 1:  loss:  0.188207   accuracy:  0.727\n",
      "Epoch 32, CIFAR-10 Batch 2:  loss:  0.213108   accuracy:  0.7302\n",
      "Epoch 32, CIFAR-10 Batch 3:  loss:  0.158686   accuracy:  0.7156\n",
      "Epoch 32, CIFAR-10 Batch 4:  loss:  0.159295   accuracy:  0.7186\n",
      "Epoch 32, CIFAR-10 Batch 5:  loss:  0.133591   accuracy:  0.7252\n",
      "Epoch 33, CIFAR-10 Batch 1:  loss:  0.185812   accuracy:  0.7366\n",
      "Epoch 33, CIFAR-10 Batch 2:  loss:  0.167356   accuracy:  0.7336\n",
      "Epoch 33, CIFAR-10 Batch 3:  loss:  0.128969   accuracy:  0.7164\n",
      "Epoch 33, CIFAR-10 Batch 4:  loss:  0.163472   accuracy:  0.7306\n",
      "Epoch 33, CIFAR-10 Batch 5:  loss:  0.117494   accuracy:  0.7288\n",
      "Epoch 34, CIFAR-10 Batch 1:  loss:  0.184349   accuracy:  0.728\n",
      "Epoch 34, CIFAR-10 Batch 2:  loss:  0.204451   accuracy:  0.7304\n",
      "Epoch 34, CIFAR-10 Batch 3:  loss:  0.116701   accuracy:  0.7038\n",
      "Epoch 34, CIFAR-10 Batch 4:  loss:  0.159828   accuracy:  0.7334\n",
      "Epoch 34, CIFAR-10 Batch 5:  loss:  0.131862   accuracy:  0.7246\n",
      "Epoch 35, CIFAR-10 Batch 1:  loss:  0.182015   accuracy:  0.727\n",
      "Epoch 35, CIFAR-10 Batch 2:  loss:  0.182702   accuracy:  0.7336\n",
      "Epoch 35, CIFAR-10 Batch 3:  loss:  0.135234   accuracy:  0.7136\n",
      "Epoch 35, CIFAR-10 Batch 4:  loss:  0.140847   accuracy:  0.7442\n",
      "Epoch 35, CIFAR-10 Batch 5:  loss:  0.10012   accuracy:  0.7322\n",
      "Epoch 36, CIFAR-10 Batch 1:  loss:  0.146861   accuracy:  0.7336\n",
      "Epoch 36, CIFAR-10 Batch 2:  loss:  0.187093   accuracy:  0.7354\n",
      "Epoch 36, CIFAR-10 Batch 3:  loss:  0.109168   accuracy:  0.724\n",
      "Epoch 36, CIFAR-10 Batch 4:  loss:  0.135312   accuracy:  0.73\n",
      "Epoch 36, CIFAR-10 Batch 5:  loss:  0.10454   accuracy:  0.735\n",
      "Epoch 37, CIFAR-10 Batch 1:  loss:  0.17259   accuracy:  0.7356\n",
      "Epoch 37, CIFAR-10 Batch 2:  loss:  0.16074   accuracy:  0.731\n",
      "Epoch 37, CIFAR-10 Batch 3:  loss:  0.125717   accuracy:  0.7302\n",
      "Epoch 37, CIFAR-10 Batch 4:  loss:  0.110883   accuracy:  0.738\n",
      "Epoch 37, CIFAR-10 Batch 5:  loss:  0.0901994   accuracy:  0.7376\n",
      "Epoch 38, CIFAR-10 Batch 1:  loss:  0.147617   accuracy:  0.733\n",
      "Epoch 38, CIFAR-10 Batch 2:  loss:  0.16802   accuracy:  0.7236\n",
      "Epoch 38, CIFAR-10 Batch 3:  loss:  0.128478   accuracy:  0.7212\n",
      "Epoch 38, CIFAR-10 Batch 4:  loss:  0.13701   accuracy:  0.7368\n",
      "Epoch 38, CIFAR-10 Batch 5:  loss:  0.124524   accuracy:  0.7302\n",
      "Epoch 39, CIFAR-10 Batch 1:  loss:  0.126856   accuracy:  0.7368\n",
      "Epoch 39, CIFAR-10 Batch 2:  loss:  0.160897   accuracy:  0.7266\n",
      "Epoch 39, CIFAR-10 Batch 3:  loss:  0.109612   accuracy:  0.7342\n",
      "Epoch 39, CIFAR-10 Batch 4:  loss:  0.107473   accuracy:  0.7286\n",
      "Epoch 39, CIFAR-10 Batch 5:  loss:  0.106594   accuracy:  0.7286\n",
      "Epoch 40, CIFAR-10 Batch 1:  loss:  0.143789   accuracy:  0.7356\n",
      "Epoch 40, CIFAR-10 Batch 2:  loss:  0.143393   accuracy:  0.736\n",
      "Epoch 40, CIFAR-10 Batch 3:  loss:  0.0851565   accuracy:  0.7338\n",
      "Epoch 40, CIFAR-10 Batch 4:  loss:  0.104425   accuracy:  0.7352\n",
      "Epoch 40, CIFAR-10 Batch 5:  loss:  0.0907893   accuracy:  0.7314\n",
      "Epoch 41, CIFAR-10 Batch 1:  loss:  0.135401   accuracy:  0.7406\n",
      "Epoch 41, CIFAR-10 Batch 2:  loss:  0.151857   accuracy:  0.721\n",
      "Epoch 41, CIFAR-10 Batch 3:  loss:  0.103539   accuracy:  0.7376\n",
      "Epoch 41, CIFAR-10 Batch 4:  loss:  0.0933459   accuracy:  0.741\n",
      "Epoch 41, CIFAR-10 Batch 5:  loss:  0.10604   accuracy:  0.7384\n",
      "Epoch 42, CIFAR-10 Batch 1:  loss:  0.115315   accuracy:  0.748\n",
      "Epoch 42, CIFAR-10 Batch 2:  loss:  0.14155   accuracy:  0.7238\n",
      "Epoch 42, CIFAR-10 Batch 3:  loss:  0.0877411   accuracy:  0.7282\n",
      "Epoch 42, CIFAR-10 Batch 4:  loss:  0.0963348   accuracy:  0.7358\n",
      "Epoch 42, CIFAR-10 Batch 5:  loss:  0.0918436   accuracy:  0.741\n",
      "Epoch 43, CIFAR-10 Batch 1:  loss:  0.109341   accuracy:  0.7316\n",
      "Epoch 43, CIFAR-10 Batch 2:  loss:  0.13308   accuracy:  0.7236\n",
      "Epoch 43, CIFAR-10 Batch 3:  loss:  0.0993489   accuracy:  0.7378\n",
      "Epoch 43, CIFAR-10 Batch 4:  loss:  0.0726545   accuracy:  0.7366\n",
      "Epoch 43, CIFAR-10 Batch 5:  loss:  0.0755532   accuracy:  0.734\n",
      "Epoch 44, CIFAR-10 Batch 1:  loss:  0.118767   accuracy:  0.7426\n",
      "Epoch 44, CIFAR-10 Batch 2:  loss:  0.125838   accuracy:  0.7192\n",
      "Epoch 44, CIFAR-10 Batch 3:  loss:  0.0709549   accuracy:  0.734\n",
      "Epoch 44, CIFAR-10 Batch 4:  loss:  0.0810727   accuracy:  0.739\n",
      "Epoch 44, CIFAR-10 Batch 5:  loss:  0.0765735   accuracy:  0.7372\n",
      "Epoch 45, CIFAR-10 Batch 1:  loss:  0.119308   accuracy:  0.7392\n",
      "Epoch 45, CIFAR-10 Batch 2:  loss:  0.136572   accuracy:  0.7334\n",
      "Epoch 45, CIFAR-10 Batch 3:  loss:  0.074169   accuracy:  0.7302\n",
      "Epoch 45, CIFAR-10 Batch 4:  loss:  0.104386   accuracy:  0.7336\n",
      "Epoch 45, CIFAR-10 Batch 5:  loss:  0.113345   accuracy:  0.7278\n",
      "Epoch 46, CIFAR-10 Batch 1:  loss:  0.0888249   accuracy:  0.7422\n",
      "Epoch 46, CIFAR-10 Batch 2:  loss:  0.114037   accuracy:  0.7274\n",
      "Epoch 46, CIFAR-10 Batch 3:  loss:  0.0760641   accuracy:  0.735\n",
      "Epoch 46, CIFAR-10 Batch 4:  loss:  0.0709564   accuracy:  0.7404\n",
      "Epoch 46, CIFAR-10 Batch 5:  loss:  0.0921758   accuracy:  0.7278\n",
      "Epoch 47, CIFAR-10 Batch 1:  loss:  0.0915055   accuracy:  0.738\n",
      "Epoch 47, CIFAR-10 Batch 2:  loss:  0.122065   accuracy:  0.7266\n",
      "Epoch 47, CIFAR-10 Batch 3:  loss:  0.0870528   accuracy:  0.7238\n",
      "Epoch 47, CIFAR-10 Batch 4:  loss:  0.0867986   accuracy:  0.7438\n",
      "Epoch 47, CIFAR-10 Batch 5:  loss:  0.0971698   accuracy:  0.7266\n",
      "Epoch 48, CIFAR-10 Batch 1:  loss:  0.088241   accuracy:  0.739\n",
      "Epoch 48, CIFAR-10 Batch 2:  loss:  0.104227   accuracy:  0.7218\n",
      "Epoch 48, CIFAR-10 Batch 3:  loss:  0.0622807   accuracy:  0.74\n",
      "Epoch 48, CIFAR-10 Batch 4:  loss:  0.0613079   accuracy:  0.7434\n",
      "Epoch 48, CIFAR-10 Batch 5:  loss:  0.0708197   accuracy:  0.7374\n",
      "Epoch 49, CIFAR-10 Batch 1:  loss:  0.097341   accuracy:  0.7428\n",
      "Epoch 49, CIFAR-10 Batch 2:  loss:  0.108954   accuracy:  0.729\n",
      "Epoch 49, CIFAR-10 Batch 3:  loss:  0.0819826   accuracy:  0.7436\n",
      "Epoch 49, CIFAR-10 Batch 4:  loss:  0.0587181   accuracy:  0.7416\n",
      "Epoch 49, CIFAR-10 Batch 5:  loss:  0.0676954   accuracy:  0.7258\n",
      "Epoch 50, CIFAR-10 Batch 1:  loss:  0.102121   accuracy:  0.743\n",
      "Epoch 50, CIFAR-10 Batch 2:  loss:  0.112702   accuracy:  0.738\n",
      "Epoch 50, CIFAR-10 Batch 3:  loss:  0.0697127   accuracy:  0.7382\n",
      "Epoch 50, CIFAR-10 Batch 4:  loss:  0.0628221   accuracy:  0.745\n",
      "Epoch 50, CIFAR-10 Batch 5:  loss:  0.0734706   accuracy:  0.729\n",
      "Epoch 51, CIFAR-10 Batch 1:  loss:  0.0834567   accuracy:  0.7398\n",
      "Epoch 51, CIFAR-10 Batch 2:  loss:  0.124008   accuracy:  0.7272\n",
      "Epoch 51, CIFAR-10 Batch 3:  loss:  0.059659   accuracy:  0.7462\n",
      "Epoch 51, CIFAR-10 Batch 4:  loss:  0.0590005   accuracy:  0.7422\n",
      "Epoch 51, CIFAR-10 Batch 5:  loss:  0.0548012   accuracy:  0.738\n",
      "Epoch 52, CIFAR-10 Batch 1:  loss:  0.10272   accuracy:  0.7442\n",
      "Epoch 52, CIFAR-10 Batch 2:  loss:  0.110644   accuracy:  0.7312\n",
      "Epoch 52, CIFAR-10 Batch 3:  loss:  0.0487019   accuracy:  0.7346\n",
      "Epoch 52, CIFAR-10 Batch 4:  loss:  0.0625627   accuracy:  0.7368\n",
      "Epoch 52, CIFAR-10 Batch 5:  loss:  0.0666775   accuracy:  0.7402\n",
      "Epoch 53, CIFAR-10 Batch 1:  loss:  0.0752888   accuracy:  0.7444\n",
      "Epoch 53, CIFAR-10 Batch 2:  loss:  0.0832032   accuracy:  0.7402\n",
      "Epoch 53, CIFAR-10 Batch 3:  loss:  0.0555943   accuracy:  0.7438\n",
      "Epoch 53, CIFAR-10 Batch 4:  loss:  0.0558007   accuracy:  0.7396\n",
      "Epoch 53, CIFAR-10 Batch 5:  loss:  0.0774275   accuracy:  0.738\n",
      "Epoch 54, CIFAR-10 Batch 1:  loss:  0.0721285   accuracy:  0.7438\n",
      "Epoch 54, CIFAR-10 Batch 2:  loss:  0.083436   accuracy:  0.73\n",
      "Epoch 54, CIFAR-10 Batch 3:  loss:  0.0544152   accuracy:  0.7374\n",
      "Epoch 54, CIFAR-10 Batch 4:  loss:  0.0561883   accuracy:  0.7442\n",
      "Epoch 54, CIFAR-10 Batch 5:  loss:  0.0628328   accuracy:  0.7354\n",
      "Epoch 55, CIFAR-10 Batch 1:  loss:  0.071068   accuracy:  0.7482\n",
      "Epoch 55, CIFAR-10 Batch 2:  loss:  0.0855215   accuracy:  0.7352\n",
      "Epoch 55, CIFAR-10 Batch 3:  loss:  0.0619749   accuracy:  0.736\n",
      "Epoch 55, CIFAR-10 Batch 4:  loss:  0.0785608   accuracy:  0.7464\n",
      "Epoch 55, CIFAR-10 Batch 5:  loss:  0.0731278   accuracy:  0.731\n",
      "Epoch 56, CIFAR-10 Batch 1:  loss:  0.064914   accuracy:  0.7406\n",
      "Epoch 56, CIFAR-10 Batch 2:  loss:  0.0854529   accuracy:  0.7396\n",
      "Epoch 56, CIFAR-10 Batch 3:  loss:  0.0675121   accuracy:  0.7392\n",
      "Epoch 56, CIFAR-10 Batch 4:  loss:  0.0611231   accuracy:  0.748\n",
      "Epoch 56, CIFAR-10 Batch 5:  loss:  0.0786206   accuracy:  0.7304\n",
      "Epoch 57, CIFAR-10 Batch 1:  loss:  0.0776407   accuracy:  0.7432\n",
      "Epoch 57, CIFAR-10 Batch 2:  loss:  0.0785837   accuracy:  0.7368\n",
      "Epoch 57, CIFAR-10 Batch 3:  loss:  0.0495156   accuracy:  0.7394\n",
      "Epoch 57, CIFAR-10 Batch 4:  loss:  0.0453775   accuracy:  0.7376\n",
      "Epoch 57, CIFAR-10 Batch 5:  loss:  0.0599952   accuracy:  0.7388\n",
      "Epoch 58, CIFAR-10 Batch 1:  loss:  0.0643561   accuracy:  0.749\n",
      "Epoch 58, CIFAR-10 Batch 2:  loss:  0.080984   accuracy:  0.7388\n",
      "Epoch 58, CIFAR-10 Batch 3:  loss:  0.0622842   accuracy:  0.7408\n",
      "Epoch 58, CIFAR-10 Batch 4:  loss:  0.0473534   accuracy:  0.746\n",
      "Epoch 58, CIFAR-10 Batch 5:  loss:  0.0566531   accuracy:  0.7334\n",
      "Epoch 59, CIFAR-10 Batch 1:  loss:  0.0625309   accuracy:  0.7456\n",
      "Epoch 59, CIFAR-10 Batch 2:  loss:  0.0788625   accuracy:  0.7334\n",
      "Epoch 59, CIFAR-10 Batch 3:  loss:  0.0612481   accuracy:  0.7424\n",
      "Epoch 59, CIFAR-10 Batch 4:  loss:  0.0537742   accuracy:  0.7322\n",
      "Epoch 59, CIFAR-10 Batch 5:  loss:  0.0600054   accuracy:  0.7288\n",
      "Epoch 60, CIFAR-10 Batch 1:  loss:  0.0859396   accuracy:  0.741\n",
      "Epoch 60, CIFAR-10 Batch 2:  loss:  0.109648   accuracy:  0.7312\n",
      "Epoch 60, CIFAR-10 Batch 3:  loss:  0.0563215   accuracy:  0.7304\n",
      "Epoch 60, CIFAR-10 Batch 4:  loss:  0.0661424   accuracy:  0.7364\n",
      "Epoch 60, CIFAR-10 Batch 5:  loss:  0.0470198   accuracy:  0.7392\n"
     ]
    }
   ],
   "source": [
    "\"\"\"\n",
    "DON'T MODIFY ANYTHING IN THIS CELL\n",
    "\"\"\"\n",
    "save_model_path = './image_classification'\n",
    "\n",
    "print('Training...')\n",
    "with tf.Session() as sess:\n",
    "    # Initializing the variables\n",
    "    sess.run(tf.global_variables_initializer())\n",
    "    \n",
    "    # Training cycle\n",
    "    for epoch in range(epochs):\n",
    "        # Loop over all batches\n",
    "        n_batches = 5\n",
    "        for batch_i in range(1, n_batches + 1):\n",
    "            for batch_features, batch_labels in helper.load_preprocess_training_batch(batch_i, batch_size):\n",
    "                train_neural_network(sess, optimizer, keep_probability, batch_features, batch_labels)\n",
    "            print('Epoch {:>2}, CIFAR-10 Batch {}:  '.format(epoch + 1, batch_i), end='')\n",
    "            print_stats(sess, batch_features, batch_labels, cost, accuracy)\n",
    "            \n",
    "    # Save Model\n",
    "    saver = tf.train.Saver()\n",
    "    save_path = saver.save(sess, save_model_path)"
   ]
  },
  {
   "cell_type": "markdown",
   "metadata": {},
   "source": [
    "# Checkpoint\n",
    "The model has been saved to disk.\n",
    "## Test Model\n",
    "Test your model against the test dataset.  This will be your final accuracy. You should have an accuracy greater than 50%. If you don't, keep tweaking the model architecture and parameters."
   ]
  },
  {
   "cell_type": "code",
   "execution_count": 1,
   "metadata": {},
   "outputs": [
    {
     "name": "stdout",
     "output_type": "stream",
     "text": [
      "Testing Accuracy: 0.7419386942675159\n",
      "\n"
     ]
    },
    {
     "data": {
      "image/png": "[encoded data removed]",
      "text/plain": [
       "<matplotlib.figure.Figure at 0x7f76df24bf28>"
      ]
     },
     "metadata": {
      "image/png": {
       "height": 319,
       "width": 355
      }
     },
     "output_type": "display_data"
    }
   ],
   "source": [
    "\"\"\"\n",
    "DON'T MODIFY ANYTHING IN THIS CELL\n",
    "\"\"\"\n",
    "%matplotlib inline\n",
    "%config InlineBackend.figure_format = 'retina'\n",
    "\n",
    "import tensorflow as tf\n",
    "import pickle\n",
    "import helper\n",
    "import random\n",
    "\n",
    "# Set batch size if not already set\n",
    "try:\n",
    "    if batch_size:\n",
    "        pass\n",
    "except NameError:\n",
    "    batch_size = 64\n",
    "\n",
    "save_model_path = './image_classification'\n",
    "n_samples = 4\n",
    "top_n_predictions = 3\n",
    "\n",
    "def test_model():\n",
    "    \"\"\"\n",
    "    Test the saved model against the test dataset\n",
    "    \"\"\"\n",
    "\n",
    "    test_features, test_labels = pickle.load(open('preprocess_training.p', mode='rb'))\n",
    "    loaded_graph = tf.Graph()\n",
    "\n",
    "    with tf.Session(graph=loaded_graph) as sess:\n",
    "        # Load model\n",
    "        loader = tf.train.import_meta_graph(save_model_path + '.meta')\n",
    "        loader.restore(sess, save_model_path)\n",
    "\n",
    "        # Get Tensors from loaded model\n",
    "        loaded_x = loaded_graph.get_tensor_by_name('x:0')\n",
    "        loaded_y = loaded_graph.get_tensor_by_name('y:0')\n",
    "        loaded_keep_prob = loaded_graph.get_tensor_by_name('keep_prob:0')\n",
    "        loaded_logits = loaded_graph.get_tensor_by_name('logits:0')\n",
    "        loaded_acc = loaded_graph.get_tensor_by_name('accuracy:0')\n",
    "        \n",
    "        # Get accuracy in batches for memory limitations\n",
    "        test_batch_acc_total = 0\n",
    "        test_batch_count = 0\n",
    "        \n",
    "        for train_feature_batch, train_label_batch in helper.batch_features_labels(test_features, test_labels, batch_size):\n",
    "            test_batch_acc_total += sess.run(\n",
    "                loaded_acc,\n",
    "                feed_dict={loaded_x: train_feature_batch, loaded_y: train_label_batch, loaded_keep_prob: 1.0})\n",
    "            test_batch_count += 1\n",
    "\n",
    "        print('Testing Accuracy: {}\\n'.format(test_batch_acc_total/test_batch_count))\n",
    "\n",
    "        # Print Random Samples\n",
    "        random_test_features, random_test_labels = tuple(zip(*random.sample(list(zip(test_features, test_labels)), n_samples)))\n",
    "        random_test_predictions = sess.run(\n",
    "            tf.nn.top_k(tf.nn.softmax(loaded_logits), top_n_predictions),\n",
    "            feed_dict={loaded_x: random_test_features, loaded_y: random_test_labels, loaded_keep_prob: 1.0})\n",
    "        helper.display_image_predictions(random_test_features, random_test_labels, random_test_predictions)\n",
    "\n",
    "\n",
    "test_model()"
   ]
  },
  {
   "cell_type": "markdown",
   "metadata": {},
   "source": [
    "## Why 50-80% Accuracy?\n",
    "You might be wondering why you can't get an accuracy any higher. First things first, 50% isn't bad for a simple CNN.  Pure guessing would get you 10% accuracy. However, you might notice people are getting scores [well above 80%](http://rodrigob.github.io/are_we_there_yet/build/classification_datasets_results.html#43494641522d3130).  That's because we haven't taught you all there is to know about neural networks. We still need to cover a few more techniques.\n",
    "## Submitting This Project\n",
    "When submitting this project, make sure to run all the cells before saving the notebook.  Save the notebook file as \"dlnd_image_classification.ipynb\" and save it as a HTML file under \"File\" -> \"Download as\".  Include the \"helper.py\" and \"problem_unittests.py\" files in your submission."
   ]
  }
 ],
 "metadata": {
  "kernelspec": {
   "display_name": "Python 3",
   "language": "python",
   "name": "python3"
  },
  "language_info": {
   "codemirror_mode": {
    "name": "ipython",
    "version": 3
   },
   "file_extension": ".py",
   "mimetype": "text/x-python",
   "name": "python",
   "nbconvert_exporter": "python",
   "pygments_lexer": "ipython3",
   "version": "3.5.3"
  },
  "widgets": {
   "state": {},
   "version": "1.1.2"
  }
 },
 "nbformat": 4,
 "nbformat_minor": 1
}
